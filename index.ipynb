{
 "cells": [
  {
   "cell_type": "markdown",
   "metadata": {},
   "source": [
    "# APIs - Cumulative Lab\n",
    "\n",
    "\n",
    "## Introduction \n",
    "\n",
    "We've seen how the Yelp API works and how to create basic visualizations using Folium. It's time to put those skills to work in order to create a working map! Taking things a step further, you'll also independently explore how to perform pagination in order to retrieve a full results set from the Yelp API.\n",
    "\n",
    "## Objectives\n",
    "\n",
    "You will be able to: \n",
    "\n",
    "* Practice using functions to organize your code\n",
    "* Use pagination to retrieve all results from an API query\n",
    "* Practice parsing data returned from an API query\n",
    "* Practice interpreting visualizations of a dataset\n",
    "* Create maps using Folium"
   ]
  },
  {
   "cell_type": "markdown",
   "metadata": {},
   "source": [
    "## Your Task: Query Yelp for All Businesses in a Category and Analyze the Results\n",
    "\n",
    "![restaurant counter with pizza](images/restaurant_counter.jpg)\n",
    "\n",
    "Photo by <a href=\"https://unsplash.com/@jordanmadrid?utm_source=unsplash&utm_medium=referral&utm_content=creditCopyText\">Jordan Madrid</a> on <a href=\"/s/photos/pizza-restaurant?utm_source=unsplash&utm_medium=referral&utm_content=creditCopyText\">Unsplash</a>"
   ]
  },
  {
   "cell_type": "markdown",
   "metadata": {},
   "source": [
    "### Overview\n",
    "\n",
    "You've now worked with some API calls, but we have yet to see how to retrieve a more complete dataset in a programmatic manner. In this lab, you will write a query of businesses on Yelp, then use *pagination* to retrieve all possible results for that query. Then you will create a summary of your findings, including a Folium map of the geographic locations of those businesses.\n",
    "\n",
    "### Technical Details\n",
    "\n",
    "Returning to the Yelp API, the [documentation](https://www.yelp.com/developers/documentation/v3/business_search) also provides us details regarding the **API limits**. These often include details about the number of requests a user is allowed to make within a specified time limit and the maximum number of results to be returned. In this case, we are told that any request has a **maximum of 50 results per request** and defaults to 20. Furthermore, any search will be limited to a **total of 1000 results**. To retrieve all 1000 of these results, we would have to page through the results piece by piece, retrieving 50 at a time. Processes such as these are often referred to as pagination.\n",
    "\n",
    "Also, be mindful of the **API** ***rate*** **limits**. You can only make **5000 requests per day** and are also can make requests too fast. Start prototyping small before running a loop that could be faulty. You can also use `time.sleep(n)` to add delays. For more details see https://www.yelp.com/developers/documentation/v3/rate_limiting.\n",
    "\n",
    "In this lab, you will define a search and then paginate over the results to retrieve all of the results. You'll then parse these responses as a list of dictionaries (for further exploration) and create a map using Folium to visualize the results geographically.\n",
    "\n",
    "### Requirements\n",
    "\n",
    "#### 1. Make the Initial Request\n",
    "\n",
    "Start by filling in your API key to make the initial request to the business search API. Investigate the structure of the response you get back and start figuring out how you will extract the relevant information.\n",
    "\n",
    "#### 2. Add Pagination\n",
    "\n",
    "Using loops and functions, collect the maximum number of results for your query from the API.\n",
    "\n",
    "#### 3. Perform Exploratory Analysis\n",
    "\n",
    "Interpret visualizations related to the price range, average rating, and number of reviews for all query results.\n",
    "\n",
    "#### 4. Create a Folium Map\n",
    "\n",
    "Using latitude and longitude data, plot the query results on an interactive map."
   ]
  },
  {
   "cell_type": "markdown",
   "metadata": {},
   "source": [
    "## 1. Make the Initial Request\n",
    "\n",
    "### Querying\n",
    "\n",
    "Start by making an initial request to the Yelp API. Your search must include at least 2 parameters: **term** and **location**. For example, you might search for pizza restaurants in NYC. The term and location is up to you but make the request below.\n",
    "\n",
    "Use the `requests` library ([documentation here](https://requests.readthedocs.io/en/master/user/quickstart/#make-a-request)).\n",
    "\n",
    "You'll also need an API key from Yelp. If you haven't done this already, go to the Yelp [Manage App page](https://www.yelp.com/developers/v3/manage_app) and create a new app (after making an account if you haven't already)."
   ]
  },
  {
   "cell_type": "code",
   "execution_count": 1,
   "metadata": {},
   "outputs": [],
   "source": [
    "import requests\n",
    "keys = get_keys()"
   ]
  },
  {
   "cell_type": "code",
   "execution_count": 3,
   "metadata": {},
   "outputs": [
    {
     "data": {
      "text/plain": [
       "<Response [200]>"
      ]
     },
     "execution_count": 3,
     "metadata": {},
     "output_type": "execute_result"
    }
   ],
   "source": [
    "# Replace None with appropriate code\n",
    "\n",
    "# Import the requests library\n",
    "import requests\n",
    "\n",
    "# Get this from the \"Manage App\" page. Make sure you set them\n",
    "# back to None before pushing this to GitHub, since otherwise\n",
    "# your credentials will be compromised\n",
    "api_key = 'kgFklLMPL8Ym78BOxmDVWbnSHlob1__5DGYCvSWgOYeyMSOs5Z4jHLzKB25xNeLNZyx2jGwokDlbM1-wgTSr7MB6n06j2GiRmNx7AVyh6Vylf4xBwV8ZGEyEFKI0Y3Yx'\n",
    "\n",
    "# These can be whatever you want! But the solution uses \"pizza\"\n",
    "# and \"New York NY\" if you want to compare your work directly\n",
    "term = 'pizza'\n",
    "location = 'New York NY'\n",
    "\n",
    "# Set up params for request\n",
    "url = \"https://api.yelp.com/v3/businesses/search\"\n",
    "headers = {\n",
    "    \"Authorization\": \"Bearer {}\".format(api_key)\n",
    "}\n",
    "url_params = {\n",
    "    \"term\": term.replace(\" \", \"+\"),\n",
    "    \"location\": location.replace(\" \", \"+\")\n",
    "}\n",
    "\n",
    "# Make the request using requests.get, passing in\n",
    "# url, headers=headers, and params=url_params\n",
    "response = requests.get(url, headers=headers, params=url_params)\n",
    "\n",
    "# Confirm we got a 200 response\n",
    "response"
   ]
  },
  {
   "cell_type": "code",
   "execution_count": 4,
   "metadata": {},
   "outputs": [
    {
     "data": {
      "text/plain": [
       "dict_keys(['businesses', 'total', 'region'])"
      ]
     },
     "execution_count": 4,
     "metadata": {},
     "output_type": "execute_result"
    }
   ],
   "source": [
    "# Run this cell without changes\n",
    "\n",
    "# Get the response body in JSON format\n",
    "response_json = response.json()\n",
    "# View the keys\n",
    "response_json.keys()"
   ]
  },
  {
   "cell_type": "markdown",
   "metadata": {},
   "source": [
    "### Extracting Data\n",
    "\n",
    "Now, retrieve the value associated with the `'businesses'` key, and inspect its contents."
   ]
  },
  {
   "cell_type": "code",
   "execution_count": 7,
   "metadata": {},
   "outputs": [
    {
     "data": {
      "text/plain": [
       "[{'id': 'zj8Lq1T8KIC5zwFief15jg',\n",
       "  'alias': 'prince-street-pizza-new-york-2',\n",
       "  'name': 'Prince Street Pizza',\n",
       "  'image_url': 'https://s3-media4.fl.yelpcdn.com/bphoto/HVjttLctuIzKL3LSlsRf-w/o.jpg',\n",
       "  'is_closed': False,\n",
       "  'url': 'https://www.yelp.com/biz/prince-street-pizza-new-york-2?adjust_creative=PaDcoXlmil_1rvou0FkLag&utm_campaign=yelp_api_v3&utm_medium=api_v3_business_search&utm_source=PaDcoXlmil_1rvou0FkLag',\n",
       "  'review_count': 4516,\n",
       "  'categories': [{'alias': 'pizza', 'title': 'Pizza'},\n",
       "   {'alias': 'italian', 'title': 'Italian'}],\n",
       "  'rating': 4.5,\n",
       "  'coordinates': {'latitude': 40.72308755605564,\n",
       "   'longitude': -73.99453001177575},\n",
       "  'transactions': ['pickup', 'delivery'],\n",
       "  'price': '$',\n",
       "  'location': {'address1': '27 Prince St',\n",
       "   'address2': None,\n",
       "   'address3': '',\n",
       "   'city': 'New York',\n",
       "   'zip_code': '10012',\n",
       "   'country': 'US',\n",
       "   'state': 'NY',\n",
       "   'display_address': ['27 Prince St', 'New York, NY 10012']},\n",
       "  'phone': '+12129664100',\n",
       "  'display_phone': '(212) 966-4100',\n",
       "  'distance': 1961.8771417367063},\n",
       " {'id': 'ysqgdbSrezXgVwER2kQWKA',\n",
       "  'alias': 'julianas-brooklyn-3',\n",
       "  'name': \"Juliana's\",\n",
       "  'image_url': 'https://s3-media1.fl.yelpcdn.com/bphoto/OCDZ4nXoaMHF0TraV0u2-g/o.jpg',\n",
       "  'is_closed': False,\n",
       "  'url': 'https://www.yelp.com/biz/julianas-brooklyn-3?adjust_creative=PaDcoXlmil_1rvou0FkLag&utm_campaign=yelp_api_v3&utm_medium=api_v3_business_search&utm_source=PaDcoXlmil_1rvou0FkLag',\n",
       "  'review_count': 2528,\n",
       "  'categories': [{'alias': 'pizza', 'title': 'Pizza'}],\n",
       "  'rating': 4.5,\n",
       "  'coordinates': {'latitude': 40.70274718768062,\n",
       "   'longitude': -73.99343490196397},\n",
       "  'transactions': ['delivery'],\n",
       "  'price': '$$',\n",
       "  'location': {'address1': '19 Old Fulton St',\n",
       "   'address2': '',\n",
       "   'address3': '',\n",
       "   'city': 'Brooklyn',\n",
       "   'zip_code': '11201',\n",
       "   'country': 'US',\n",
       "   'state': 'NY',\n",
       "   'display_address': ['19 Old Fulton St', 'Brooklyn, NY 11201']},\n",
       "  'phone': '+17185966700',\n",
       "  'display_phone': '(718) 596-6700',\n",
       "  'distance': 308.56984360837544}]"
      ]
     },
     "execution_count": 7,
     "metadata": {},
     "output_type": "execute_result"
    }
   ],
   "source": [
    "# Replace None with appropriate code\n",
    "\n",
    "# Retrieve the value from response_json\n",
    "businesses = response_json['businesses']\n",
    "\n",
    "# View the first 2 records\n",
    "businesses[:2]"
   ]
  },
  {
   "cell_type": "markdown",
   "metadata": {},
   "source": [
    "### Preparing Data\n",
    "\n",
    "Write a function `prepare_data` that takes in a list of dictionaries like `businesses` and returns a copy that has been prepared for analysis:\n",
    "\n",
    "1. The `coordinates` key-value pair has been converted into two separate key-value pairs, `latitude` and `longitude`\n",
    "2. All other key-value pairs except for `name`, `review_count`, `rating`, and `price` have been dropped\n",
    "3. All dictionaries missing one of the relevant keys or containing null values have been dropped\n",
    "\n",
    "In other words, the final keys for each dictionary should be `name`, `review_count`, `rating`, `price`, `latitude`, and `longitude`.\n",
    "\n",
    "Complete the function in the cell below:"
   ]
  },
  {
   "cell_type": "code",
   "execution_count": 51,
   "metadata": {},
   "outputs": [
    {
     "data": {
      "text/plain": [
       "[{'name': 'Gina La Fornarina',\n",
       "  'review_count': 105,\n",
       "  'rating': 3.0,\n",
       "  'price': '$$',\n",
       "  'latitude': 40.7839431762695,\n",
       "  'longitude': -73.9568481445312},\n",
       " {'name': 'La Casa Mia Pizzeria & Restaurante',\n",
       "  'review_count': 66,\n",
       "  'rating': 4.5,\n",
       "  'price': '$',\n",
       "  'latitude': 40.5872915,\n",
       "  'longitude': -73.9545124},\n",
       " {'name': \"Arturo's\",\n",
       "  'review_count': 742,\n",
       "  'rating': 4.5,\n",
       "  'price': '$$',\n",
       "  'latitude': 40.73039,\n",
       "  'longitude': -74.27802},\n",
       " {'name': \"Lee's Tavern\",\n",
       "  'review_count': 587,\n",
       "  'rating': 4.5,\n",
       "  'price': '$$',\n",
       "  'latitude': 40.588756,\n",
       "  'longitude': -74.095153},\n",
       " {'name': 'Pisillo Italian Panini',\n",
       "  'review_count': 681,\n",
       "  'rating': 4.5,\n",
       "  'price': '$$',\n",
       "  'latitude': 40.710558,\n",
       "  'longitude': -74.007594}]"
      ]
     },
     "execution_count": 51,
     "metadata": {},
     "output_type": "execute_result"
    }
   ],
   "source": [
    "# Replace None with appropriate code\n",
    "\n",
    "def prepare_data(data_list):\n",
    "    \"\"\"\n",
    "    This function takes in a list of dictionaries and prepares it\n",
    "    for analysis\n",
    "    \"\"\"\n",
    "    \n",
    "    # Make a new list to hold results\n",
    "    results = []\n",
    "    for business_data in data_list:\n",
    "    \n",
    "        # Make a new dictionary to hold prepared data for this business\n",
    "        prepared_data = {}\n",
    "        data_keys = ['name', 'review_count', 'rating', 'price']\n",
    "        # Extract name, review_count, rating, and price key-value pairs\n",
    "        # from business_data and add to prepared_data\n",
    "        # If a key is not present in business_data, add it to prepared_data\n",
    "        # with an associated value of None\n",
    "        for key in data_keys:\n",
    "            try:\n",
    "                prepared_data[key] = business_data[key]\n",
    "            except:\n",
    "                prepared_data[key] = None\n",
    "    \n",
    "        # Parse and add latitude and longitude columns\n",
    "        prepared_data['latitude'] = business_data['coordinates']['latitude']\n",
    "        prepared_data['longitude'] = business_data['coordinates']['longitude']\n",
    "        \n",
    "        # Add to list if all values are present\n",
    "        if all(prepared_data.values()):\n",
    "            results.append(prepared_data)\n",
    "    \n",
    "    return results\n",
    "    \n",
    "# Test out function\n",
    "prepared_businesses = prepare_data(businesses)\n",
    "prepared_businesses[:5]"
   ]
  },
  {
   "cell_type": "markdown",
   "metadata": {},
   "source": [
    "Check that your function created the correct keys:"
   ]
  },
  {
   "cell_type": "code",
   "execution_count": 41,
   "metadata": {},
   "outputs": [],
   "source": [
    "# Run this cell without changes\n",
    "\n",
    "assert sorted(list(prepared_businesses[0].keys())) == ['latitude', 'longitude', 'name', 'price', 'rating', 'review_count']"
   ]
  },
  {
   "cell_type": "markdown",
   "metadata": {},
   "source": [
    "The following code will differ depending on your query, but we expect there to be 20 businesses in the original list, and potentially fewer in the prepared list (if any of them were missing data):"
   ]
  },
  {
   "cell_type": "code",
   "execution_count": 42,
   "metadata": {},
   "outputs": [
    {
     "name": "stdout",
     "output_type": "stream",
     "text": [
      "Original: 20\n",
      "Prepared: 18\n"
     ]
    }
   ],
   "source": [
    "# Run this cell without changes\n",
    "print(\"Original:\", len(businesses))\n",
    "print(\"Prepared:\", len(prepared_businesses))"
   ]
  },
  {
   "cell_type": "markdown",
   "metadata": {},
   "source": [
    "Great! We will reuse this function once we have retrieved the full dataset."
   ]
  },
  {
   "cell_type": "markdown",
   "metadata": {},
   "source": [
    "## 2. Add Pagination\n",
    "\n",
    "Now that you are able to extract information from one page of the response, let's figure out how to request as many pages as possible.\n",
    "\n",
    "### Determining the Total\n",
    "\n",
    "Depending on the number of total results for your query, you will either retrieve all of the results, or just the first 1000 (if there are more than 1000 total).\n",
    "\n",
    "We can find the total number of results using the `\"total\"` key:"
   ]
  },
  {
   "cell_type": "code",
   "execution_count": 43,
   "metadata": {},
   "outputs": [
    {
     "data": {
      "text/plain": [
       "12300"
      ]
     },
     "execution_count": 43,
     "metadata": {},
     "output_type": "execute_result"
    }
   ],
   "source": [
    "# Run this cell without changes\n",
    "response_json[\"total\"]"
   ]
  },
  {
   "cell_type": "markdown",
   "metadata": {},
   "source": [
    "(This is specific to the implementation of the Yelp API. Some APIs will just tell you that there are more pages, or will tell you the number of pages total, rather than the total number of results. If you're not sure, always check the documentation.)\n",
    "\n",
    "In the cell below, assign the variable `total` to either the value shown above (if it is less than 1000), or 1000."
   ]
  },
  {
   "cell_type": "code",
   "execution_count": 44,
   "metadata": {},
   "outputs": [],
   "source": [
    "# Replace None with appropriate code\n",
    "total = 1000"
   ]
  },
  {
   "cell_type": "markdown",
   "metadata": {},
   "source": [
    "### Calculating the Offsets\n",
    "\n",
    "The documentation states in the parameters section:\n",
    "\n",
    "> **Name**: `limit`, **Type:** int, **Description:** Optional. Number of business results to return. By default, it will return 20. Maximum is 50.\n",
    "\n",
    "> **Name**: `offset`, **Type:** int, **Description:** Optional. Offset the list of returned business results by this amount.\n",
    "\n",
    "So, to get the most results with the fewest API calls we want to set a limit of 50 every time. If, say, we wanted to get 210 total results, that would mean:\n",
    "\n",
    "1. Offset of `0` (first 50 records)\n",
    "2. Offset of `50` (second 50 records)\n",
    "3. Offset of `100` (third 50 records)\n",
    "4. Offset of `150` (fourth 50 records)\n",
    "5. Offset of `200` (final 10 records)\n",
    "\n",
    "In the cell below, create a function `get_offsets` that takes in a total and returns a list of offsets for that total. You can assume that there is a limit of 50 every time.\n",
    "\n",
    "*Hint: you can use `range` ([documentation here](https://docs.python.org/3.3/library/stdtypes.html?highlight=range#range)) to do this in one line of code. Just make the returned result is a list.*"
   ]
  },
  {
   "cell_type": "code",
   "execution_count": 45,
   "metadata": {},
   "outputs": [],
   "source": [
    "# Replace None with appropriate code\n",
    "def get_offsets(total):\n",
    "    \"\"\"\n",
    "    Get a list of offsets needed to get all pages\n",
    "    of data up until the total\n",
    "    \"\"\"\n",
    "    return list(range(0, total, 50))"
   ]
  },
  {
   "cell_type": "markdown",
   "metadata": {},
   "source": [
    "Check that your function works below:"
   ]
  },
  {
   "cell_type": "code",
   "execution_count": 46,
   "metadata": {},
   "outputs": [],
   "source": [
    "# Run this cell without changes\n",
    "\n",
    "assert get_offsets(200) == [0, 50, 100, 150]\n",
    "assert get_offsets(210) == [0, 50, 100, 150, 200]"
   ]
  },
  {
   "cell_type": "markdown",
   "metadata": {},
   "source": [
    "### Putting It All Together\n",
    "\n",
    "Recall that the following variable has already been declared for you:"
   ]
  },
  {
   "cell_type": "code",
   "execution_count": 47,
   "metadata": {},
   "outputs": [
    {
     "data": {
      "text/plain": [
       "{'term': 'pizza', 'location': 'New+York+NY'}"
      ]
     },
     "execution_count": 47,
     "metadata": {},
     "output_type": "execute_result"
    }
   ],
   "source": [
    "# Run this cell without changes\n",
    "url_params"
   ]
  },
  {
   "cell_type": "markdown",
   "metadata": {},
   "source": [
    "We'll go ahead and also specify that the limit should be 50 every time:"
   ]
  },
  {
   "cell_type": "code",
   "execution_count": 48,
   "metadata": {},
   "outputs": [],
   "source": [
    "# Run this cell without changes\n",
    "url_params[\"limit\"] = 50"
   ]
  },
  {
   "cell_type": "markdown",
   "metadata": {},
   "source": [
    "In order to modify the offset, you'll need to add it to `url_params` with the key `\"offset\"` and whatever value is needed.\n",
    "\n",
    "In the cell below, write code that:\n",
    "\n",
    "* Creates an empty list for the full prepared dataset\n",
    "* Loops over all of the offsets from `get_offsets` and makes an API call each time with the specified offset\n",
    "* Calls `prepare_data` to get a cleaned version of the result of each API call\n",
    "* Extends the full prepared dataset list with each query's prepared dataset"
   ]
  },
  {
   "cell_type": "code",
   "execution_count": 49,
   "metadata": {},
   "outputs": [
    {
     "data": {
      "text/plain": [
       "{'term': 'pizza', 'location': 'New+York+NY', 'limit': 50}"
      ]
     },
     "execution_count": 49,
     "metadata": {},
     "output_type": "execute_result"
    }
   ],
   "source": [
    "url_params"
   ]
  },
  {
   "cell_type": "code",
   "execution_count": 52,
   "metadata": {},
   "outputs": [
    {
     "data": {
      "text/plain": [
       "763"
      ]
     },
     "execution_count": 52,
     "metadata": {},
     "output_type": "execute_result"
    }
   ],
   "source": [
    "# Replace None with appropriate code\n",
    "\n",
    "# Create an empty list for the full prepared dataset\n",
    "full_dataset = []\n",
    "\n",
    "for offset in get_offsets(total):\n",
    "    # Add or update the \"offset\" key-value pair in url_params\n",
    "    url_params['offset'] = offset\n",
    "    \n",
    "    # Make the query and get the response\n",
    "    response = requests.get(url, headers=headers, params=url_params)\n",
    "    \n",
    "    # Get the response body in JSON format\n",
    "    response_json = response.json()\n",
    "    \n",
    "    # Get the list of businesses from the response_json\n",
    "    businesses = response_json['businesses']\n",
    "    \n",
    "    # Call the prepare_data function to get a list of processed data\n",
    "    prepared_businesses = prepare_data(businesses)\n",
    "    \n",
    "    # Extend full_dataset with this list (don't append, or you'll get\n",
    "    # a list of lists instead of a flat list)\n",
    "    full_dataset.extend(prepared_businesses)\n",
    "\n",
    "# Check the length of the full dataset. It will be up to `total`,\n",
    "# potentially less if there were missing values\n",
    "len(full_dataset)"
   ]
  },
  {
   "cell_type": "markdown",
   "metadata": {},
   "source": [
    "This code may take up to a few minutes to run.\n",
    "\n",
    "If you get an error trying to get the response body in JSON format, try adding `time.sleep(1)` right after the `requests.get` line, so your code will sleep for 1 second between each API call."
   ]
  },
  {
   "cell_type": "markdown",
   "metadata": {},
   "source": [
    "## 3. Perform Exploratory Analysis\n",
    "\n",
    "Take the businesses from the previous question and do an initial exploratory analysis. We have provided some plots for you to interpret:"
   ]
  },
  {
   "cell_type": "code",
   "execution_count": 53,
   "metadata": {},
   "outputs": [
    {
     "data": {
      "image/png": "[encoded data removed]",
      "text/plain": [
       "<Figure size 1152x360 with 3 Axes>"
      ]
     },
     "metadata": {
      "needs_background": "light"
     },
     "output_type": "display_data"
    }
   ],
   "source": [
    "# Run this cell without changes\n",
    "from collections import Counter\n",
    "import matplotlib.pyplot as plt\n",
    "%matplotlib inline\n",
    "\n",
    "fig, (ax1, ax2, ax3) = plt.subplots(ncols=3, figsize=(16, 5))\n",
    "\n",
    "# Plot distribution of number of reviews\n",
    "all_review_counts = [x[\"review_count\"] for x in full_dataset]\n",
    "ax1.hist(all_review_counts)\n",
    "ax1.set_title(\"Review Count Distribution\")\n",
    "ax1.set_xlabel(\"Number of Reviews\")\n",
    "ax1.set_ylabel(\"Number of Businesses\")\n",
    "\n",
    "# Plot rating distribution\n",
    "all_ratings = [x[\"rating\"] for x in full_dataset]\n",
    "rating_counter = Counter(all_ratings)\n",
    "rating_keys = sorted(rating_counter.keys())\n",
    "ax2.bar(rating_keys, [rating_counter[key] for key in rating_keys])\n",
    "ax2.set_title(\"Rating Distribution\")\n",
    "ax2.set_xlabel(\"Rating\")\n",
    "ax2.set_ylabel(\"Number of Businesses\")\n",
    "\n",
    "# Plot price distribution\n",
    "all_prices = [x[\"price\"].replace(\"$\", r\"\\$\") for x in full_dataset]\n",
    "price_counter = Counter(all_prices)\n",
    "price_keys = sorted(price_counter.keys())\n",
    "ax3.bar(price_keys, [price_counter[key] for key in price_keys])\n",
    "ax3.set_title(\"Price Distribution\")\n",
    "ax3.set_xlabel(\"Price Category\")\n",
    "ax3.set_ylabel(\"Number of Businesses\");"
   ]
  },
  {
   "cell_type": "markdown",
   "metadata": {},
   "source": [
    "Describe the distributions displayed above and interpret them in the context of your query. (Your answer may differ from the solution branch depending on your query.)"
   ]
  },
  {
   "cell_type": "code",
   "execution_count": 54,
   "metadata": {},
   "outputs": [
    {
     "data": {
      "text/plain": [
       "'\\nit would seem that the vast majority of businesses have very few, if any, reviews of their establishment which could mean that \\nthe customers just dont care enough to write reviews.\\n\\nthe average rating of all the restaurants is around 4.0 which tells me that most of the pizza places are well liked but only\\na very few are considered top teir\\n\\nthe price range for these restaurants is solidly in the cheap to slightly more than cheap range. this is to be expected as most\\npizza places do not charge very much per slice\\n'"
      ]
     },
     "execution_count": 54,
     "metadata": {},
     "output_type": "execute_result"
    }
   ],
   "source": [
    "# Replace None with appropriate text\n",
    "\"\"\"\n",
    "it would seem that the vast majority of businesses have very few, if any, reviews of their establishment which could mean that \n",
    "the customers just dont care enough to write reviews.\n",
    "\n",
    "the average rating of all the restaurants is around 4.0 which tells me that most of the pizza places are well liked but only\n",
    "a very few are considered top teir\n",
    "\n",
    "the price range for these restaurants is solidly in the cheap to slightly more than cheap range. this is to be expected as most\n",
    "pizza places do not charge very much per slice\n",
    "\"\"\""
   ]
  },
  {
   "cell_type": "markdown",
   "metadata": {},
   "source": [
    "In the cell below, we also plot the rating distributions by price. In this setup, a price of one dollar sign is \"lower price\" and everything else is \"higher price\"."
   ]
  },
  {
   "cell_type": "code",
   "execution_count": 55,
   "metadata": {},
   "outputs": [
    {
     "data": {
      "image/png": "[encoded data removed]",
      "text/plain": [
       "<Figure size 432x288 with 1 Axes>"
      ]
     },
     "metadata": {
      "needs_background": "light"
     },
     "output_type": "display_data"
    }
   ],
   "source": [
    "# Run this cell without changes\n",
    "\n",
    "higher_price = []\n",
    "lower_price = []\n",
    "for row in full_dataset:\n",
    "    if row[\"price\"] == \"$\":\n",
    "        lower_price.append(row[\"rating\"])\n",
    "    else:\n",
    "        higher_price.append(row[\"rating\"])\n",
    "        \n",
    "fig, ax = plt.subplots()\n",
    "\n",
    "ax.hist([higher_price, lower_price], label=[\"higher price\", \"lower price\"], density=True)\n",
    "\n",
    "ax.legend();"
   ]
  },
  {
   "cell_type": "markdown",
   "metadata": {},
   "source": [
    "Is a higher price associated with a higher rating? (No need for any additional math/statistics, just interpret what you see in the plot.)"
   ]
  },
  {
   "cell_type": "code",
   "execution_count": null,
   "metadata": {},
   "outputs": [],
   "source": [
    "# Replace None with appropriate text\n",
    "\"\"\"\n",
    "it would seem that there is a general understanding for most customers that they are willing to pay more money for a better\n",
    "slice of pizza but are not willing to overpay which is why the higher priced pizza only becomes more popular as the ratings\n",
    "hit 4.0, (people don't want to overpay for food that isnt good). overall the price of the pizza is dependent on the rating\n",
    "of the pizza, not the other way around.\n",
    "\"\"\""
   ]
  },
  {
   "cell_type": "markdown",
   "metadata": {},
   "source": [
    "Finally, let's look at ratings vs. review counts:"
   ]
  },
  {
   "cell_type": "code",
   "execution_count": 56,
   "metadata": {},
   "outputs": [
    {
     "data": {
      "image/png": "[encoded data removed]",
      "text/plain": [
       "<Figure size 1152x360 with 1 Axes>"
      ]
     },
     "metadata": {
      "needs_background": "light"
     },
     "output_type": "display_data"
    }
   ],
   "source": [
    "# Run this cell without changes\n",
    "fig, ax = plt.subplots(figsize=(16,5))\n",
    "\n",
    "ax.scatter(all_review_counts, all_ratings, alpha=0.2)\n",
    "ax.set_xlabel(\"Number of Reviews\")\n",
    "ax.set_ylabel(\"Rating\")\n",
    "# \"zoom in\" to a subset of review counts\n",
    "ax.set_xlim(left=0, right=1000);"
   ]
  },
  {
   "cell_type": "markdown",
   "metadata": {},
   "source": [
    "Is a higher number of reviews associated with a higher rating?"
   ]
  },
  {
   "cell_type": "code",
   "execution_count": 57,
   "metadata": {},
   "outputs": [
    {
     "data": {
      "text/plain": [
       "'\\nit would seem that the number of reveiws is dependent on the frequency of customers at a restaurant. most people buy pizza from \\nplaces where the rating is between 3.5 and 4.5 which explains why most of the reviews are in this range. the highest rating of \\n5.0 is almost devoid of review because it does not have nearly as many customers. overall, a higher rating does not mean more \\nreviews, it is the more customers you have.\\n'"
      ]
     },
     "execution_count": 57,
     "metadata": {},
     "output_type": "execute_result"
    }
   ],
   "source": [
    "# Replace None with appropriate text\n",
    "\"\"\"\n",
    "it would seem that the number of reveiws is dependent on the frequency of customers at a restaurant. most people buy pizza from \n",
    "places where the rating is between 3.5 and 4.5 which explains why most of the reviews are in this range. the highest rating of \n",
    "5.0 is almost devoid of review because it does not have nearly as many customers. overall, a higher rating does not mean more \n",
    "reviews, it is the more customers you have.\n",
    "\"\"\""
   ]
  },
  {
   "cell_type": "markdown",
   "metadata": {},
   "source": [
    "## 4. Create a Folium Map\n",
    "\n",
    "Make a map using Folium of the businesses you retrieved. Be sure to also add popups to the markers giving some basic information such as name, rating and price.\n",
    "\n",
    "You can center the map around the latitude and longitude of the first item in `full_dataset`."
   ]
  },
  {
   "cell_type": "code",
   "execution_count": 58,
   "metadata": {},
   "outputs": [
    {
     "data": {
      "text/plain": [
       "{'name': 'Prince Street Pizza',\n",
       " 'review_count': 4516,\n",
       " 'rating': 4.5,\n",
       " 'price': '$',\n",
       " 'latitude': 40.72308755605564,\n",
       " 'longitude': -73.99453001177575}"
      ]
     },
     "execution_count": 58,
     "metadata": {},
     "output_type": "execute_result"
    }
   ],
   "source": [
    "full_dataset[0]"
   ]
  },
  {
   "cell_type": "code",
   "execution_count": 72,
   "metadata": {},
   "outputs": [
    {
     "data": {
      "text/html": [
       "<div style=\"width:100%;\"><div style=\"position:relative;width:100%;height:0;padding-bottom:60%;\"><span style=\"color:#565656\">Make this Notebook Trusted to load map: File -> Trust Notebook</span><iframe src=\"about:blank\" style=\"position:absolute;width:100%;height:100%;left:0;top:0;border:none !important;\" data-html=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 onload=\"this.contentDocument.open();this.contentDocument.write(atob(this.getAttribute('data-html')));this.contentDocument.close();\" allowfullscreen webkitallowfullscreen mozallowfullscreen></iframe></div></div>"
      ],
      "text/plain": [
       "<folium.folium.Map at 0x210a69df250>"
      ]
     },
     "execution_count": 72,
     "metadata": {},
     "output_type": "execute_result"
    }
   ],
   "source": [
    "# Replace None with appropriate code\n",
    "\n",
    "# Import the library\n",
    "import folium\n",
    "\n",
    "\n",
    "# Set up center latitude and longitude\n",
    "center_lat = full_dataset[0]['latitude']\n",
    "center_long = full_dataset[0]['longitude']\n",
    "\n",
    "# Initialize map with center lat and long\n",
    "yelp_map = folium.Map([center_lat, center_long], zoo_start = 100)\n",
    "\n",
    "# Adjust this limit to see more or fewer businesses\n",
    "limit=100\n",
    "\n",
    "for business in full_dataset[:limit]:\n",
    "    # Extract information about business\n",
    "    lat = business['latitude']\n",
    "    long = business['longitude']\n",
    "    name = business['name']\n",
    "    rating = business['rating']\n",
    "    price = business['price']\n",
    "    details = \"{}\\nPrice: {} Rating:{}\".format(name,price,rating)\n",
    "    \n",
    "    # Create popup with relevant details\n",
    "    popup_text = '{}, {}, {}'.format(name,rating,price)\n",
    "    popup = folium.Popup(popup_text, parse_html=True)\n",
    "    \n",
    "    # Create marker with relevant lat/long and popup\n",
    "    marker = folium.Marker(location = [lat,long], popup = popup)\n",
    "    \n",
    "    marker.add_to(yelp_map)\n",
    "    \n",
    "yelp_map"
   ]
  },
  {
   "cell_type": "markdown",
   "metadata": {},
   "source": [
    "## Summary\n",
    "\n",
    "Nice work! In this lab, you've made multiple API calls to Yelp in order to paginate through a results set, performing some basic exploratory analysis and then creating a nice interactive map to display the results using Folium! Well done!"
   ]
  }
 ],
 "metadata": {
  "kernelspec": {
   "display_name": "Python 3",
   "language": "python",
   "name": "python3"
  },
  "language_info": {
   "codemirror_mode": {
    "name": "ipython",
    "version": 3
   },
   "file_extension": ".py",
   "mimetype": "text/x-python",
   "name": "python",
   "nbconvert_exporter": "python",
   "pygments_lexer": "ipython3",
   "version": "3.8.5"
  },
  "toc": {
   "base_numbering": 1,
   "nav_menu": {},
   "number_sections": true,
   "sideBar": true,
   "skip_h1_title": false,
   "title_cell": "Table of Contents",
   "title_sidebar": "Contents",
   "toc_cell": false,
   "toc_position": {},
   "toc_section_display": true,
   "toc_window_display": false
  }
 },
 "nbformat": 4,
 "nbformat_minor": 2
}
